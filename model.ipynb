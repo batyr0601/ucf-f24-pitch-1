{
 "cells": [
  {
   "cell_type": "code",
   "execution_count": 4,
   "metadata": {},
   "outputs": [],
   "source": [
    "import pandas as pd\n",
    "import numpy as np\n",
    "import yfinance as yf\n",
    "import datetime as dt"
   ]
  },
  {
   "cell_type": "code",
   "execution_count": 3,
   "metadata": {},
   "outputs": [
    {
     "ename": "SyntaxError",
     "evalue": "invalid syntax (848079845.py, line 30)",
     "output_type": "error",
     "traceback": [
      "\u001b[1;36m  Cell \u001b[1;32mIn[3], line 30\u001b[1;36m\u001b[0m\n\u001b[1;33m    day_of_earnings[]\u001b[0m\n\u001b[1;37m                    ^\u001b[0m\n\u001b[1;31mSyntaxError\u001b[0m\u001b[1;31m:\u001b[0m invalid syntax\n"
     ]
    }
   ],
   "source": [
    "earnings_path = 'earnings.xlsx'\n",
    "earnings_df = pd.ExcelFile(earnings_path)\n",
    "returns_path = 'returns.xlsx'\n",
    "returns_df = pd.ExcelFile(returns_path)\n",
    "\n",
    "# filer for positive positive_earnings_df = earnings_df[earnings_df['Date']]\n",
    "\n",
    "regression_data = pd.DataFrame({\"Ticker\", \"Quarter\", \"Earnings_Date\", \"Earnings_Return\", \"Earnings_Vol\", \"1_Day_Return\", \"3_Day_Return\", \"7_Day_Return\"})\n",
    "\n",
    "unique_tickers = earnings_df['Ticker'].unique()\n",
    "for ticker in unique_tickers:\n",
    "  ticker_data = earnings_df[earnings_df['Ticker'] == ticker]\n",
    "  unique_quarters = ticker_data['Quarter'].unique()\n",
    "\n",
    "  for quarter in unique_quarters:\n",
    "    quarter_data = ticker_data[ticker_data['Quarter'] == quarter]\n",
    "    earnings_date = quarter_data['Date'].iloc[0]\n",
    "\n",
    "    day_of_earnings = yf.download(ticker, start=earnings_date, end=earnings_date)\n",
    "    pd.DataFrame({\n",
    "        [ticker],\n",
    "        [quarter],\n",
    "        [earnings_date],\n",
    "        [returns_df[returns_df['Date' == earnings_date]]],\n",
    "        [day_of_earnings['Volume'].iloc[0]],\n",
    "        # 1_Day_return\n",
    "        # 3_Day_return\n",
    "        # 7_Day_return\n",
    "    })\n",
    "\n",
    "\n",
    "  \n",
    "\n",
    "earnings_dates = earnings_df['Date']"
   ]
  }
 ],
 "metadata": {
  "kernelspec": {
   "display_name": "Python 3",
   "language": "python",
   "name": "python3"
  },
  "language_info": {
   "codemirror_mode": {
    "name": "ipython",
    "version": 3
   },
   "file_extension": ".py",
   "mimetype": "text/x-python",
   "name": "python",
   "nbconvert_exporter": "python",
   "pygments_lexer": "ipython3",
   "version": "3.11.5"
  }
 },
 "nbformat": 4,
 "nbformat_minor": 2
}
